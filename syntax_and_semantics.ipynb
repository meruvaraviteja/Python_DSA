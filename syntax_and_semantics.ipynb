{
 "cells": [
  {
   "cell_type": "markdown",
   "id": "676e0204-1477-41eb-909e-16fa655f1b9f",
   "metadata": {},
   "source": [
    "<h1> Syntax and Semantics</h1>"
   ]
  },
  {
   "cell_type": "markdown",
   "id": "6fc6a406-1414-4e1e-a694-c93ccdcc9b65",
   "metadata": {},
   "source": [
    "<p>Syntax refers to the set of rules that defines the combinations of symbols that are considered to be correctly structured programs in a language. In simple terms, syntax is about the correct arrangements of words and symbols in a code</p>"
   ]
  },
  {
   "cell_type": "markdown",
   "id": "f5f5008d-d050-40d7-ad7e-c017f75f954b",
   "metadata": {},
   "source": [
    "<p>Semantics refers to the meaning or the interpretation of symbols, characters and commands in a language. It is about what the code is supposed to do when it runs</p>"
   ]
  },
  {
   "cell_type": "markdown",
   "id": "60c9e366-fa5f-44ab-a74e-0f2b95ff0bcc",
   "metadata": {},
   "source": [
    "<h3>Basic syntax rules in python</h3>"
   ]
  },
  {
   "cell_type": "code",
   "execution_count": 5,
   "id": "2dbb4226-6895-4351-946e-d13cab8cf767",
   "metadata": {},
   "outputs": [
    {
     "name": "stdout",
     "output_type": "stream",
     "text": [
      "name:  Tej\n",
      "Name:  Ravi\n"
     ]
    }
   ],
   "source": [
    "# Case sensitivity - Python is case sensitive\n",
    "name = \"Tej\"\n",
    "Name = \"Ravi\"\n",
    "print(\"name: \",name)\n",
    "print(\"Name: \",Name)"
   ]
  },
  {
   "cell_type": "code",
   "execution_count": 6,
   "id": "b2648a23-6def-4edd-8d26-52c73e528c6e",
   "metadata": {},
   "outputs": [
    {
     "name": "stdout",
     "output_type": "stream",
     "text": [
      "30\n",
      "30\n"
     ]
    }
   ],
   "source": [
    "# Indentation - Python uses indentation to define blocks of code. Consistent use of spaces or a tab is required\n",
    "age = 30\n",
    "if age > 25:\n",
    "    print(age)\n",
    "print(age)"
   ]
  },
  {
   "cell_type": "code",
   "execution_count": 7,
   "id": "c386715c-b3f2-4045-9aa9-16470ed794db",
   "metadata": {},
   "outputs": [],
   "source": [
    "# This is a single line comment"
   ]
  },
  {
   "cell_type": "code",
   "execution_count": 8,
   "id": "3840c205-72c5-4e8a-95e4-b038065fc191",
   "metadata": {},
   "outputs": [],
   "source": [
    "# Line Continuation\n",
    "total = 1+2+3+\\\n",
    "4+5+6"
   ]
  },
  {
   "cell_type": "code",
   "execution_count": 9,
   "id": "9394eb52-e6ab-4704-bb4a-2bcc603a134d",
   "metadata": {},
   "outputs": [
    {
     "name": "stdout",
     "output_type": "stream",
     "text": [
      "21\n"
     ]
    }
   ],
   "source": [
    "print(total)"
   ]
  },
  {
   "cell_type": "code",
   "execution_count": 10,
   "id": "01c47b0a-1797-4edc-9658-5910088a1dce",
   "metadata": {},
   "outputs": [],
   "source": [
    "# Multiple statements on a single line\n",
    "x = 5; y=10; z = x + y"
   ]
  },
  {
   "cell_type": "code",
   "execution_count": 11,
   "id": "1560d528-fa8e-4933-98ac-9eaacbd0b311",
   "metadata": {},
   "outputs": [
    {
     "data": {
      "text/plain": [
       "15"
      ]
     },
     "execution_count": 11,
     "metadata": {},
     "output_type": "execute_result"
    }
   ],
   "source": [
    "z"
   ]
  },
  {
   "cell_type": "code",
   "execution_count": 12,
   "id": "8b940e06-fd52-469b-ac38-10e56144680b",
   "metadata": {},
   "outputs": [],
   "source": [
    "# variable assignment\n",
    "age = 30 # age is an integer\n",
    "name = \"Krish\" # name is a string"
   ]
  },
  {
   "cell_type": "code",
   "execution_count": 13,
   "id": "248a53d2-c71d-42a7-9002-b4cacbd80500",
   "metadata": {},
   "outputs": [
    {
     "data": {
      "text/plain": [
       "int"
      ]
     },
     "execution_count": 13,
     "metadata": {},
     "output_type": "execute_result"
    }
   ],
   "source": [
    "#Type Inference - Python is dynamically typed language\n",
    "type(age)"
   ]
  },
  {
   "cell_type": "code",
   "execution_count": 14,
   "id": "deb1a760-cbf0-429d-ae8d-0193321c219c",
   "metadata": {},
   "outputs": [
    {
     "data": {
      "text/plain": [
       "str"
      ]
     },
     "execution_count": 14,
     "metadata": {},
     "output_type": "execute_result"
    }
   ],
   "source": [
    "type(name)"
   ]
  },
  {
   "cell_type": "raw",
   "id": "1d22cba9-1b42-458f-aeb8-bed34bae6dc0",
   "metadata": {},
   "source": [
    "# Indentation Error\n",
    "age = 30\n",
    "if age > 25:\n",
    "print(age)"
   ]
  },
  {
   "cell_type": "raw",
   "id": "a295f221-a430-4d13-a53e-1fb0ec70e7ec",
   "metadata": {},
   "source": [
    "# Name error - undefined variable\n",
    "a = b"
   ]
  },
  {
   "cell_type": "code",
   "execution_count": 30,
   "id": "93edcdad-9629-40e8-9a56-4905f9ac60e2",
   "metadata": {},
   "outputs": [
    {
     "name": "stdout",
     "output_type": "stream",
     "text": [
      "Correct Indentation\n",
      "This will print\n"
     ]
    }
   ],
   "source": [
    "# Code example of indentation\n",
    "if True:\n",
    "    print(\"Correct Indentation\")\n",
    "    if False:\n",
    "        print(\"This won't print\")\n",
    "    print(\"This will print\")"
   ]
  },
  {
   "cell_type": "code",
   "execution_count": null,
   "id": "c87e62d0-4686-4719-9827-a108d5833126",
   "metadata": {},
   "outputs": [],
   "source": []
  }
 ],
 "metadata": {
  "kernelspec": {
   "display_name": "Python 3 (ipykernel)",
   "language": "python",
   "name": "python3"
  },
  "language_info": {
   "codemirror_mode": {
    "name": "ipython",
    "version": 3
   },
   "file_extension": ".py",
   "mimetype": "text/x-python",
   "name": "python",
   "nbconvert_exporter": "python",
   "pygments_lexer": "ipython3",
   "version": "3.12.4"
  }
 },
 "nbformat": 4,
 "nbformat_minor": 5
}
